{
 "cells": [
  {
   "cell_type": "code",
   "execution_count": 31,
   "metadata": {},
   "outputs": [],
   "source": [
    "import pandas as pd"
   ]
  },
  {
   "cell_type": "code",
   "execution_count": 5,
   "metadata": {},
   "outputs": [],
   "source": [
    "banks_df = pd.read_excel('scraped_data/banks.xlsx')\n",
    "offers_df = pd.read_excel('scraped_data/offers.xlsx')"
   ]
  },
  {
   "cell_type": "code",
   "execution_count": 24,
   "metadata": {},
   "outputs": [
    {
     "name": "stdout",
     "output_type": "stream",
     "text": [
      "Размер DataFrame в памяти: 197.88 KB\n",
      "Размер DataFrame в памяти: 47.72 KB\n"
     ]
    },
    {
     "data": {
      "text/plain": [
       "np.int64(251500)"
      ]
     },
     "execution_count": 24,
     "metadata": {},
     "output_type": "execute_result"
    }
   ],
   "source": [
    "memory_usage_a = offers_df.memory_usage(deep=True).sum()\n",
    "print(f\"Размер DataFrame в памяти: {memory_usage_a / 1024:.2f} KB\")\n",
    "\n",
    "memory_usage_b = banks_df.memory_usage(deep=True).sum()\n",
    "print(f\"Размер DataFrame в памяти: {memory_usage_b / 1024:.2f} KB\")\n",
    "\n",
    "total_mem_usage_kb = (memory_usage_a + memory_usage_b)\n",
    "total_mem_usage_kb"
   ]
  },
  {
   "cell_type": "code",
   "execution_count": null,
   "metadata": {},
   "outputs": [],
   "source": []
  }
 ],
 "metadata": {
  "kernelspec": {
   "display_name": "banks_env",
   "language": "python",
   "name": "python3"
  },
  "language_info": {
   "codemirror_mode": {
    "name": "ipython",
    "version": 3
   },
   "file_extension": ".py",
   "mimetype": "text/x-python",
   "name": "python",
   "nbconvert_exporter": "python",
   "pygments_lexer": "ipython3",
   "version": "3.10.0"
  }
 },
 "nbformat": 4,
 "nbformat_minor": 2
}
