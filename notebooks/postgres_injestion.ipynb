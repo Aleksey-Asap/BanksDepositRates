{
 "cells": [
  {
   "cell_type": "code",
   "execution_count": null,
   "metadata": {},
   "outputs": [],
   "source": [
    "import pandas as pd\n",
    "import warnings\n",
    "\n",
    "from sqlalchemy import create_engine\n",
    "from sqlalchemy.sql import text\n",
    "\n",
    "warnings.filterwarnings('ignore')"
   ]
  },
  {
   "cell_type": "markdown",
   "metadata": {},
   "source": [
    "### Data Downloading"
   ]
  },
  {
   "cell_type": "code",
   "execution_count": 2,
   "metadata": {},
   "outputs": [],
   "source": [
    "banks_df = pd.read_excel('../data/banks.xlsx')\n",
    "offers_df = pd.read_excel('../data/offers.xlsx')"
   ]
  },
  {
   "cell_type": "code",
   "execution_count": 3,
   "metadata": {},
   "outputs": [
    {
     "data": {
      "text/html": [
       "<div>\n",
       "<style scoped>\n",
       "    .dataframe tbody tr th:only-of-type {\n",
       "        vertical-align: middle;\n",
       "    }\n",
       "\n",
       "    .dataframe tbody tr th {\n",
       "        vertical-align: top;\n",
       "    }\n",
       "\n",
       "    .dataframe thead th {\n",
       "        text-align: right;\n",
       "    }\n",
       "</style>\n",
       "<table border=\"1\" class=\"dataframe\">\n",
       "  <thead>\n",
       "    <tr style=\"text-align: right;\">\n",
       "      <th></th>\n",
       "      <th>id</th>\n",
       "      <th>name</th>\n",
       "      <th>rate</th>\n",
       "      <th>online_rate</th>\n",
       "      <th>term</th>\n",
       "      <th>amount_from</th>\n",
       "      <th>amount_to</th>\n",
       "      <th>offer_count</th>\n",
       "      <th>final_rate</th>\n",
       "    </tr>\n",
       "  </thead>\n",
       "  <tbody>\n",
       "    <tr>\n",
       "      <th>0</th>\n",
       "      <td>1</td>\n",
       "      <td>Транскапиталбанк</td>\n",
       "      <td>24.00</td>\n",
       "      <td>0.00</td>\n",
       "      <td>181 день</td>\n",
       "      <td>100000</td>\n",
       "      <td>3000000.0</td>\n",
       "      <td>3</td>\n",
       "      <td>24.00</td>\n",
       "    </tr>\n",
       "    <tr>\n",
       "      <th>1</th>\n",
       "      <td>2</td>\n",
       "      <td>Локо-Банк</td>\n",
       "      <td>22.20</td>\n",
       "      <td>0.00</td>\n",
       "      <td>370 дней</td>\n",
       "      <td>100000</td>\n",
       "      <td>5000000.0</td>\n",
       "      <td>1</td>\n",
       "      <td>22.20</td>\n",
       "    </tr>\n",
       "    <tr>\n",
       "      <th>2</th>\n",
       "      <td>3</td>\n",
       "      <td>Московский Кредитный Банк</td>\n",
       "      <td>25.00</td>\n",
       "      <td>25.00</td>\n",
       "      <td>95 – 1100 дней</td>\n",
       "      <td>10000</td>\n",
       "      <td>3000000.0</td>\n",
       "      <td>0</td>\n",
       "      <td>25.00</td>\n",
       "    </tr>\n",
       "    <tr>\n",
       "      <th>3</th>\n",
       "      <td>4</td>\n",
       "      <td>Газпромбанк</td>\n",
       "      <td>24.00</td>\n",
       "      <td>0.01</td>\n",
       "      <td>от 1 дня</td>\n",
       "      <td>1</td>\n",
       "      <td>1500000.0</td>\n",
       "      <td>0</td>\n",
       "      <td>24.00</td>\n",
       "    </tr>\n",
       "    <tr>\n",
       "      <th>4</th>\n",
       "      <td>5</td>\n",
       "      <td>Альфа-Банк</td>\n",
       "      <td>21.05</td>\n",
       "      <td>22.02</td>\n",
       "      <td>92 – 1095 дней</td>\n",
       "      <td>50000</td>\n",
       "      <td>NaN</td>\n",
       "      <td>3</td>\n",
       "      <td>22.02</td>\n",
       "    </tr>\n",
       "  </tbody>\n",
       "</table>\n",
       "</div>"
      ],
      "text/plain": [
       "   id                       name   rate  online_rate            term  \\\n",
       "0   1           Транскапиталбанк  24.00         0.00        181 день   \n",
       "1   2                  Локо-Банк  22.20         0.00        370 дней   \n",
       "2   3  Московский Кредитный Банк  25.00        25.00  95 – 1100 дней   \n",
       "3   4                Газпромбанк  24.00         0.01        от 1 дня   \n",
       "4   5                 Альфа-Банк  21.05        22.02  92 – 1095 дней   \n",
       "\n",
       "   amount_from  amount_to  offer_count  final_rate  \n",
       "0       100000  3000000.0            3       24.00  \n",
       "1       100000  5000000.0            1       22.20  \n",
       "2        10000  3000000.0            0       25.00  \n",
       "3            1  1500000.0            0       24.00  \n",
       "4        50000        NaN            3       22.02  "
      ]
     },
     "execution_count": 3,
     "metadata": {},
     "output_type": "execute_result"
    }
   ],
   "source": [
    "banks_df.head()"
   ]
  },
  {
   "cell_type": "code",
   "execution_count": 4,
   "metadata": {},
   "outputs": [
    {
     "data": {
      "text/html": [
       "<div>\n",
       "<style scoped>\n",
       "    .dataframe tbody tr th:only-of-type {\n",
       "        vertical-align: middle;\n",
       "    }\n",
       "\n",
       "    .dataframe tbody tr th {\n",
       "        vertical-align: top;\n",
       "    }\n",
       "\n",
       "    .dataframe thead th {\n",
       "        text-align: right;\n",
       "    }\n",
       "</style>\n",
       "<table border=\"1\" class=\"dataframe\">\n",
       "  <thead>\n",
       "    <tr style=\"text-align: right;\">\n",
       "      <th></th>\n",
       "      <th>bank_id</th>\n",
       "      <th>bank_name</th>\n",
       "      <th>rate</th>\n",
       "      <th>online_rate</th>\n",
       "      <th>term</th>\n",
       "      <th>amount_from</th>\n",
       "      <th>amount_to</th>\n",
       "      <th>final_rate</th>\n",
       "    </tr>\n",
       "  </thead>\n",
       "  <tbody>\n",
       "    <tr>\n",
       "      <th>0</th>\n",
       "      <td>1</td>\n",
       "      <td>Транскапиталбанк</td>\n",
       "      <td>23.00</td>\n",
       "      <td>0.0</td>\n",
       "      <td>367 дней</td>\n",
       "      <td>100000.0</td>\n",
       "      <td>3000000.0</td>\n",
       "      <td>23.00</td>\n",
       "    </tr>\n",
       "    <tr>\n",
       "      <th>1</th>\n",
       "      <td>1</td>\n",
       "      <td>Транскапиталбанк</td>\n",
       "      <td>22.50</td>\n",
       "      <td>0.0</td>\n",
       "      <td>91 день</td>\n",
       "      <td>100000.0</td>\n",
       "      <td>3000000.0</td>\n",
       "      <td>22.50</td>\n",
       "    </tr>\n",
       "    <tr>\n",
       "      <th>2</th>\n",
       "      <td>1</td>\n",
       "      <td>Транскапиталбанк</td>\n",
       "      <td>10.25</td>\n",
       "      <td>0.0</td>\n",
       "      <td>1110 дней</td>\n",
       "      <td>100000.0</td>\n",
       "      <td>3000000.0</td>\n",
       "      <td>10.25</td>\n",
       "    </tr>\n",
       "    <tr>\n",
       "      <th>3</th>\n",
       "      <td>2</td>\n",
       "      <td>Локо-Банк</td>\n",
       "      <td>21.60</td>\n",
       "      <td>0.0</td>\n",
       "      <td>182 дня</td>\n",
       "      <td>100000.0</td>\n",
       "      <td>5000000.0</td>\n",
       "      <td>21.60</td>\n",
       "    </tr>\n",
       "    <tr>\n",
       "      <th>4</th>\n",
       "      <td>5</td>\n",
       "      <td>Альфа-Банк</td>\n",
       "      <td>19.22</td>\n",
       "      <td>21.0</td>\n",
       "      <td>92 – 1095 дней</td>\n",
       "      <td>10000.0</td>\n",
       "      <td>NaN</td>\n",
       "      <td>21.00</td>\n",
       "    </tr>\n",
       "  </tbody>\n",
       "</table>\n",
       "</div>"
      ],
      "text/plain": [
       "   bank_id         bank_name   rate  online_rate            term  amount_from  \\\n",
       "0        1  Транскапиталбанк  23.00          0.0        367 дней     100000.0   \n",
       "1        1  Транскапиталбанк  22.50          0.0         91 день     100000.0   \n",
       "2        1  Транскапиталбанк  10.25          0.0       1110 дней     100000.0   \n",
       "3        2         Локо-Банк  21.60          0.0         182 дня     100000.0   \n",
       "4        5        Альфа-Банк  19.22         21.0  92 – 1095 дней      10000.0   \n",
       "\n",
       "   amount_to  final_rate  \n",
       "0  3000000.0       23.00  \n",
       "1  3000000.0       22.50  \n",
       "2  3000000.0       10.25  \n",
       "3  5000000.0       21.60  \n",
       "4        NaN       21.00  "
      ]
     },
     "execution_count": 4,
     "metadata": {},
     "output_type": "execute_result"
    }
   ],
   "source": [
    "offers_df.head()"
   ]
  },
  {
   "cell_type": "markdown",
   "metadata": {},
   "source": [
    "### Подключение к Postgres"
   ]
  },
  {
   "cell_type": "code",
   "execution_count": 41,
   "metadata": {},
   "outputs": [],
   "source": [
    "\n",
    "# определяем параметры подлчения к postgres\n",
    "user_name = 'root'\n",
    "pwd = 'root'\n",
    "host = 'localhost'\n",
    "port = 5432\n",
    "db_name = 'postgres'\n",
    "\n",
    "# названия таблиц\n",
    "banks_table_name = 'banks'\n",
    "offers_table_name = 'offers'\n",
    "\n",
    "# создаем подключение к postgres\n",
    "engine = create_engine(f'postgresql://{user_name}:{pwd}@{host}:{port}/{db_name}')"
   ]
  },
  {
   "cell_type": "markdown",
   "metadata": {},
   "source": [
    "### Создаем Таблицы в БД\n",
    "Для создание таблицы можно сипользовать несколько способов\n",
    "- Напрямую вставлять данные\n",
    "- Используя `pd.io.sql.get_schema`"
   ]
  },
  {
   "cell_type": "code",
   "execution_count": 49,
   "metadata": {},
   "outputs": [
    {
     "data": {
      "text/plain": [
       "771"
      ]
     },
     "execution_count": 49,
     "metadata": {},
     "output_type": "execute_result"
    }
   ],
   "source": [
    "# способ 1\n",
    "banks_df.to_sql(name=banks_table_name, con=engine, if_exists='replace')\n",
    "offers_df.to_sql(name=offers_table_name, con=engine, if_exists='replace')"
   ]
  },
  {
   "cell_type": "code",
   "execution_count": 50,
   "metadata": {},
   "outputs": [
    {
     "name": "stdout",
     "output_type": "stream",
     "text": [
      "CREATE TABLE \"banks\" (\n",
      "\"id\" INTEGER,\n",
      "  \"name\" TEXT,\n",
      "  \"rate\" REAL,\n",
      "  \"online_rate\" REAL,\n",
      "  \"term\" TEXT,\n",
      "  \"amount_from\" INTEGER,\n",
      "  \"amount_to\" REAL,\n",
      "  \"offer_count\" INTEGER,\n",
      "  \"final_rate\" REAL\n",
      ")\n"
     ]
    }
   ],
   "source": [
    "# способ 2\n",
    "print(pd.io.sql.get_schema(banks_df, name=banks_table_name))"
   ]
  },
  {
   "cell_type": "code",
   "execution_count": 52,
   "metadata": {},
   "outputs": [
    {
     "name": "stdout",
     "output_type": "stream",
     "text": [
      "Одна из таблиц уже существует! Удали ее!\n"
     ]
    }
   ],
   "source": [
    "# создаем таблицы в БД, если таблицы уже созданые, выведет ошибку, поэтому используем try-except\n",
    "try:\n",
    "    with engine.connect() as connection:\n",
    "        connection.execute(\n",
    "            # используем text из sqlalchemy, так как он преоразует строку создания таблицы в нужный формат\n",
    "            # без этого, ругается!\n",
    "            text(pd.io.sql.get_schema(offers_df, name=offers_table_name, con=engine))\n",
    "        )\n",
    "        connection.execute(\n",
    "            text(pd.io.sql.get_schema(banks_df, name=banks_table_name, con=engine))\n",
    "        )\n",
    "except:\n",
    "    print('Одна из таблиц уже существует! Удали ее!')\n"
   ]
  },
  {
   "cell_type": "markdown",
   "metadata": {},
   "source": [
    "### Получение Данные из БД"
   ]
  },
  {
   "cell_type": "code",
   "execution_count": 69,
   "metadata": {},
   "outputs": [
    {
     "data": {
      "text/plain": [
       "[(0, 1, 'Транскапиталбанк', 24.0, 0.0, '181 день', 100000, 3000000.0, 3, 24.0),\n",
       " (1, 2, 'Локо-Банк', 22.2, 0.0, '370 дней', 100000, 5000000.0, 1, 22.2),\n",
       " (2, 3, 'Московский Кредитный Банк', 25.0, 25.0, '95 – 1100 дней', 10000, 3000000.0, 0, 25.0),\n",
       " (3, 4, 'Газпромбанк', 24.0, 0.01, 'от 1 дня', 1, 1500000.0, 0, 24.0),\n",
       " (4, 5, 'Альфа-Банк', 21.05, 22.02, '92 – 1095 дней', 50000, None, 3, 22.02),\n",
       " (5, 6, 'Т-Банк', 21.0, 24.13, '2 – 24 месяцев', 50000, None, 1, 24.13),\n",
       " (6, 7, 'МТС Банк', 21.57, 0.0, '91 – 1096 дней', 10000, None, 0, 21.57),\n",
       " (7, 8, 'Газпромбанк', 23.01, 25.0, '181 день', 15000, None, 0, 25.0),\n",
       " (8, 9, 'Яндекс Банк', 22.0, 22.0, '91 – 730 дней', 10000, 10000000.0, 0, 22.0),\n",
       " (9, 10, 'Россельхозбанк', 23.0, 21.0, '91 – 1095 дней', 5000, None, 0, 23.0)]"
      ]
     },
     "execution_count": 69,
     "metadata": {},
     "output_type": "execute_result"
    }
   ],
   "source": [
    "query = \"\"\"\n",
    "SELECT *\n",
    "FROM banks\n",
    "LIMIT 10\n",
    "\"\"\"\n",
    "\n",
    "with engine.connect() as connection:\n",
    "    result = connection.execute(\n",
    "        text(query)\n",
    "    )\n",
    "    result = result.fetchall()\n",
    "\n",
    "result"
   ]
  },
  {
   "cell_type": "code",
   "execution_count": null,
   "metadata": {},
   "outputs": [],
   "source": []
  }
 ],
 "metadata": {
  "kernelspec": {
   "display_name": "bank_deposits",
   "language": "python",
   "name": "python3"
  },
  "language_info": {
   "codemirror_mode": {
    "name": "ipython",
    "version": 3
   },
   "file_extension": ".py",
   "mimetype": "text/x-python",
   "name": "python",
   "nbconvert_exporter": "python",
   "pygments_lexer": "ipython3",
   "version": "3.8.0"
  }
 },
 "nbformat": 4,
 "nbformat_minor": 2
}
